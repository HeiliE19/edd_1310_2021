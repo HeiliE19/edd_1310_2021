{
  "nbformat": 4,
  "nbformat_minor": 0,
  "metadata": {
    "colab": {
      "name": "15octubre_1310.ipynb",
      "provenance": [],
      "toc_visible": true,
      "authorship_tag": "ABX9TyNgsN/vUjnaWHIXuBggA0Gm",
      "include_colab_link": true
    },
    "kernelspec": {
      "name": "python3",
      "display_name": "Python 3"
    }
  },
  "cells": [
    {
      "cell_type": "markdown",
      "metadata": {
        "id": "view-in-github",
        "colab_type": "text"
      },
      "source": [
        "<a href=\"https://colab.research.google.com/github/HeiliE19/edd_1310_2021/blob/main/15octubre_1310.ipynb\" target=\"_parent\"><img src=\"https://colab.research.google.com/assets/colab-badge.svg\" alt=\"Open In Colab\"/></a>"
      ]
    },
    {
      "cell_type": "markdown",
      "metadata": {
        "id": "Zbq-1xeqB7t1"
      },
      "source": [
        "#Módulos\n",
        "Son recursos reutilizables que contienne varias funciones que pueden ser importadas a tu código.\n"
      ]
    },
    {
      "cell_type": "code",
      "metadata": {
        "id": "S0-ASmldCEpo",
        "outputId": "02068cc8-794b-4d93-e71c-a4804a36f1a9",
        "colab": {
          "base_uri": "https://localhost:8080/",
          "height": 35
        }
      },
      "source": [
        "\"\"\"\n",
        "import mi_modulo\n",
        "\n",
        "x = mi_modulo.sumar( 4, 7 )\n",
        "print ( x )\n",
        "\n",
        "print(mi_modulo.multiplicar(3,5))\n",
        "\"\"\""
      ],
      "execution_count": null,
      "outputs": [
        {
          "output_type": "execute_result",
          "data": {
            "application/vnd.google.colaboratory.intrinsic+json": {
              "type": "string"
            },
            "text/plain": [
              "'\\nimport mi_modulo\\n\\nx = mi_modulo.sumar( 4, 7 )\\nprint ( x )\\n\\nprint(mi_modulo.multiplicar(3,5))\\n'"
            ]
          },
          "metadata": {
            "tags": []
          },
          "execution_count": 3
        }
      ]
    },
    {
      "cell_type": "code",
      "metadata": {
        "id": "fKhmEDcgKXMn",
        "outputId": "cfdd4ef6-82ee-4364-8191-c558a626c159",
        "colab": {
          "base_uri": "https://localhost:8080/",
          "height": 51
        }
      },
      "source": [
        "from mi_modulo import sumar, dividir #importar únicamente la función sumar y dividir\n",
        "\n",
        "print(sumar(4,7))\n",
        "print(dividir(8,3))"
      ],
      "execution_count": null,
      "outputs": [
        {
          "output_type": "stream",
          "text": [
            "11\n",
            "2.6666666666666665\n"
          ],
          "name": "stdout"
        }
      ]
    },
    {
      "cell_type": "code",
      "metadata": {
        "id": "Q-sQbGQpLO-r",
        "outputId": "2806eeee-45e4-4497-8fff-ca97b793536c",
        "colab": {
          "base_uri": "https://localhost:8080/",
          "height": 34
        }
      },
      "source": [
        "import mi_modulo as patito\n",
        "\n",
        "print(patito.sumar(4,6))"
      ],
      "execution_count": null,
      "outputs": [
        {
          "output_type": "stream",
          "text": [
            "10\n"
          ],
          "name": "stdout"
        }
      ]
    },
    {
      "cell_type": "code",
      "metadata": {
        "id": "Cm0nl3ezOC8m",
        "outputId": "6cc1f445-ba93-4954-868d-86c71c440f42",
        "colab": {
          "base_uri": "https://localhost:8080/",
          "height": 35
        }
      },
      "source": [
        "#pip install joke-generator   #PASO1. busca en https://pypi.org/project/pip/\n",
        "from joke_generator import generate  #Hacerlo posteriormente\n",
        "generate()"
      ],
      "execution_count": null,
      "outputs": [
        {
          "output_type": "execute_result",
          "data": {
            "application/vnd.google.colaboratory.intrinsic+json": {
              "type": "string"
            },
            "text/plain": [
              "'If you’re struggling to think of what to get someone for Christmas. Get them a fridge and watch their face light up when they open it.'"
            ]
          },
          "metadata": {
            "tags": []
          },
          "execution_count": 15
        }
      ]
    },
    {
      "cell_type": "markdown",
      "metadata": {
        "id": "rNOfJwOrSZcE"
      },
      "source": [
        "#archivos\n",
        "- open(str, str)\n",
        "  1. Nombre o ruta del archivo\n",
        "  2. dos caracteres\n",
        "    - modo de apertura del archivo (r , w, a appen si y solo si el archivo existe, x append si y solo si el archivo no existe)\n",
        "    - Formato del archivo (t o b)"
      ]
    },
    {
      "cell_type": "code",
      "metadata": {
        "id": "SFhKaXWJSTmj"
      },
      "source": [
        "archivo = open(\"saludo.txt\",\"wt\")\n",
        "archivo.write(\"Hola mundo \\n Ola ke aze\")\n",
        "archivo.close()\n"
      ],
      "execution_count": null,
      "outputs": []
    },
    {
      "cell_type": "code",
      "metadata": {
        "id": "DnPJMt-IUc9y",
        "outputId": "69975b84-912d-484c-9519-3b4345ec616a",
        "colab": {
          "base_uri": "https://localhost:8080/",
          "height": 231
        }
      },
      "source": [
        "otro = open('./sample_data/anscombe.json','rt') #./ significa carpeta actual\n",
        "datos = otro.read()  #lee todo el archivo y lo regresa como string\n",
        "#print(datos)\n",
        "otro.close()\n",
        "\n",
        "arch = open('frutas.txt','rt')\n",
        "#print(arch.readline()) #readline regresa línea por línea\n",
        "#print(arch.readline()) #regresa la segunda linea\n",
        "#print(arch.readline()) #regresa la tercer linea\n",
        "\n",
        "data = 'ppp'\n",
        "while (data != ''): #lo anterior puede hacerse con while \n",
        "  data = arch.readline()\n",
        "  print(data)\n",
        "arch.close()\n",
        "\n",
        "arch = open('frutas.txt','rt')\n",
        "list_frutas = arch.readlines()\n",
        "print(list_frutas)\n",
        "arch.close()"
      ],
      "execution_count": null,
      "outputs": [
        {
          "output_type": "error",
          "ename": "FileNotFoundError",
          "evalue": "ignored",
          "traceback": [
            "\u001b[0;31m---------------------------------------------------------------------------\u001b[0m",
            "\u001b[0;31mFileNotFoundError\u001b[0m                         Traceback (most recent call last)",
            "\u001b[0;32m<ipython-input-4-6e4b89729c89>\u001b[0m in \u001b[0;36m<module>\u001b[0;34m()\u001b[0m\n\u001b[1;32m      4\u001b[0m \u001b[0motro\u001b[0m\u001b[0;34m.\u001b[0m\u001b[0mclose\u001b[0m\u001b[0;34m(\u001b[0m\u001b[0;34m)\u001b[0m\u001b[0;34m\u001b[0m\u001b[0;34m\u001b[0m\u001b[0m\n\u001b[1;32m      5\u001b[0m \u001b[0;34m\u001b[0m\u001b[0m\n\u001b[0;32m----> 6\u001b[0;31m \u001b[0march\u001b[0m \u001b[0;34m=\u001b[0m \u001b[0mopen\u001b[0m\u001b[0;34m(\u001b[0m\u001b[0;34m'frutas.txt'\u001b[0m\u001b[0;34m,\u001b[0m\u001b[0;34m'rt'\u001b[0m\u001b[0;34m)\u001b[0m\u001b[0;34m\u001b[0m\u001b[0;34m\u001b[0m\u001b[0m\n\u001b[0m\u001b[1;32m      7\u001b[0m \u001b[0;31m#print(arch.readline()) #readline regresa línea por línea\u001b[0m\u001b[0;34m\u001b[0m\u001b[0;34m\u001b[0m\u001b[0;34m\u001b[0m\u001b[0m\n\u001b[1;32m      8\u001b[0m \u001b[0;31m#print(arch.readline()) #regresa la segunda linea\u001b[0m\u001b[0;34m\u001b[0m\u001b[0;34m\u001b[0m\u001b[0;34m\u001b[0m\u001b[0m\n",
            "\u001b[0;31mFileNotFoundError\u001b[0m: [Errno 2] No such file or directory: 'frutas.txt'"
          ]
        }
      ]
    }
  ]
}
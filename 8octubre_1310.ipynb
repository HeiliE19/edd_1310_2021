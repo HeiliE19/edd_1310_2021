{
  "nbformat": 4,
  "nbformat_minor": 0,
  "metadata": {
    "colab": {
      "name": "8octubre_1310.ipynb",
      "provenance": [],
      "authorship_tag": "ABX9TyMfqDoVeoPRchxtjHzIKMb5",
      "include_colab_link": true
    },
    "kernelspec": {
      "name": "python3",
      "display_name": "Python 3"
    }
  },
  "cells": [
    {
      "cell_type": "markdown",
      "metadata": {
        "id": "view-in-github",
        "colab_type": "text"
      },
      "source": [
        "<a href=\"https://colab.research.google.com/github/HeiliE19/edd_1310_2021/blob/main/8octubre_1310.ipynb\" target=\"_parent\"><img src=\"https://colab.research.google.com/assets/colab-badge.svg\" alt=\"Open In Colab\"/></a>"
      ]
    },
    {
      "cell_type": "code",
      "metadata": {
        "id": "BDNMzV5Q_T4z",
        "outputId": "ed674c40-8f85-4bc2-8092-bdbd1509f0c8",
        "colab": {
          "base_uri": "https://localhost:8080/",
          "height": 173
        }
      },
      "source": [
        "#Listas Multi Dimensión\n",
        "monitores =[[\"Samsung\",\"17.3 \\\"\",1024],[\"BenQ\",\"40\\\"\",2048]]\n",
        "procesadores = [[\"Intel\",\"i7\",3.4],[\"AMD\",\"razzer\",3.3],[\"Intel\",\"i3\",3.1]]\n",
        "memorias = [[\"Kingston\", \"8GB\",\"DDR4\"],[\"Kingston\", \"16GB\",\"DDR3\"],[\"ADATA\", \"32GB\",\"DDR4\"]]\n",
        "\n",
        "componentes = [monitores,procesadores,memorias]\n",
        "\n",
        "print(componentes)\n",
        "\n",
        "print(componentes[1]) #imprimir lista componentes\n",
        "print(componentes[2][1][1]) #imprimir \"16 GB\" de memorias, segundo dato\n",
        "\n",
        "mult = int(componentes[0][1][2])\n",
        "print(mult*2)\n",
        "#o\n",
        "print(int(componentes[0][1][2])*2)\n",
        "\n",
        "print(componentes[1][1][1][1:4])  #imprimir la azz de \"razzer\"\n",
        "\n",
        "print((componentes[2][2][0]).lower()) #imprimir \"ADATA\" en minúsculas\n",
        "\n",
        "\n",
        "componentes[2].append([\"Patito\",\"32 GB\",\"DDR4\"]) #agregar memoria\n",
        "print(componentes[2])"
      ],
      "execution_count": null,
      "outputs": [
        {
          "output_type": "stream",
          "text": [
            "[[['Samsung', '17.3 \"', 1024], ['BenQ', '40\"', 2048]], [['Intel', 'i7', 3.4], ['AMD', 'razzer', 3.3], ['Intel', 'i3', 3.1]], [['Kingston', '8GB', 'DDR4'], ['Kingston', '16GB', 'DDR3'], ['ADATA', '32GB', 'DDR4']]]\n",
            "[['Intel', 'i7', 3.4], ['AMD', 'razzer', 3.3], ['Intel', 'i3', 3.1]]\n",
            "16GB\n",
            "4096\n",
            "4096\n",
            "azz\n",
            "adata\n",
            "[['Kingston', '8GB', 'DDR4'], ['Kingston', '16GB', 'DDR3'], ['ADATA', '32GB', 'DDR4'], ['Patito', '32 GB', 'DDR4']]\n"
          ],
          "name": "stdout"
        }
      ]
    },
    {
      "cell_type": "code",
      "metadata": {
        "id": "fZntyEaXHzRH",
        "outputId": "5e9e4bbe-fe8d-42ee-e549-74180b6ef31b",
        "colab": {
          "base_uri": "https://localhost:8080/",
          "height": 170
        }
      },
      "source": [
        "#copiar listas\n",
        "#extender listas\n",
        "\n",
        "frutas = [\"manzana\", \"pera\"]\n",
        "otras_frutas = [\"aguacate\", \"sandía\"]\n",
        "\n",
        "# + sobre listas\n",
        "frutas = frutas + otras_frutas\n",
        "print(frutas)\n",
        "\n",
        "#función extend()\n",
        "#frutas.extend(otras_frutas)\n",
        "#print(frutas)\n",
        "\n",
        "#frutas.append(otras_frutas)\n",
        "#print(frutas)\n",
        "\n",
        "\n",
        "#copiar\n",
        "\n",
        "colores = [\"azul\",\"rojo\",\"verde\",\"violeta\"]\n",
        "otros_colores = colores     #la memoria reserva 4 locales de memoria 0,1,2 y 3\n",
        "print(colores)\n",
        "print(otros_colores)\n",
        "\n",
        "otros_colores.append(\"Rosa\")\n",
        "print(colores)\n",
        "print(otros_colores)\n",
        "\n",
        "una_mas = colores.copy()  #busca otra localidad de memoria y almacena la copia\n",
        "print(una_mas)\n",
        "una_mas.append(\"Gris\")\n",
        "print(una_mas)\n",
        "\n",
        "print(colores)\n",
        "\n",
        "# unpacking de listas\n",
        "\n",
        "alumno = [\"Jesús\",\"Pérez\",\"Herrera\",22,\"ICO\",10.0]\n",
        "nombre = alumno[0]\n",
        "paterno = alumno [1]\n",
        "\n",
        "# etc\n",
        "\n",
        "nombre,paterno,materno,edad,carrera,promedio = alumno\n",
        "print(f\"Alumno: {nombre} carrera: {carrera} promedio: {promedio}\")"
      ],
      "execution_count": null,
      "outputs": [
        {
          "output_type": "stream",
          "text": [
            "['manzana', 'pera', 'aguacate', 'sandía']\n",
            "['azul', 'rojo', 'verde', 'violeta']\n",
            "['azul', 'rojo', 'verde', 'violeta']\n",
            "['azul', 'rojo', 'verde', 'violeta', 'Rosa']\n",
            "['azul', 'rojo', 'verde', 'violeta', 'Rosa']\n",
            "['azul', 'rojo', 'verde', 'violeta', 'Rosa']\n",
            "['azul', 'rojo', 'verde', 'violeta', 'Rosa', 'Gris']\n",
            "['azul', 'rojo', 'verde', 'violeta', 'Rosa']\n",
            "Alumno: Jesús carrera: ICO promedio: 10.0\n"
          ],
          "name": "stdout"
        }
      ]
    },
    {
      "cell_type": "markdown",
      "metadata": {
        "id": "2e5Ce79_R_am"
      },
      "source": [
        "# tuplas\n",
        "- se declaran con ()\n",
        "- selector con []\n",
        "- NO son mutables\n"
      ]
    },
    {
      "cell_type": "code",
      "metadata": {
        "id": "KDOC-Jm4SLTl",
        "outputId": "4bf47618-c887-4dd0-984d-c0e748c5862d",
        "colab": {
          "base_uri": "https://localhost:8080/",
          "height": 68
        }
      },
      "source": [
        "precios = (99.9,49.9,12.45, 33.44, 55.66)\n",
        "print(precios[1])\n",
        "# precios[1] = 50.0     no se pueden modificar\n",
        "# Las tuplas sirven para consulta; cuando tienes valores constantes\n",
        "print(precios)\n",
        "print(precios[2:4])"
      ],
      "execution_count": null,
      "outputs": [
        {
          "output_type": "stream",
          "text": [
            "49.9\n",
            "(99.9, 49.9, 12.45, 33.44, 55.66)\n",
            "(12.45, 33.44)\n"
          ],
          "name": "stdout"
        }
      ]
    },
    {
      "cell_type": "markdown",
      "metadata": {
        "id": "0l5KCL6aTjfU"
      },
      "source": [
        "# Diccionarios\n",
        "-  Se declara con {}\n",
        "-  Si son mutables\n",
        "-  conjuntos de pares llave: valor\n",
        "-  equivalente a los Objetos JSOn de JavaScript\n",
        "-  el  "
      ]
    },
    {
      "cell_type": "code",
      "metadata": {
        "id": "dPWqxzq2Tixm",
        "outputId": "9896947b-0c39-4efe-e1be-cfd682146c9d",
        "colab": {
          "base_uri": "https://localhost:8080/",
          "height": 139
        }
      },
      "source": [
        "cliente = {}   #Con esto decimos que cliente es un diccionario\n",
        "print(cliente)\n",
        "alumno = { \"num_cta\" : 346510548 }\n",
        "print(alumno)\n",
        "\n",
        "alumno = { \n",
        "          \"num_cta\" : 303030303 ,\n",
        "          \"carrera\" : \"ICO\",\n",
        "          \"promedio\" : 9.8,\n",
        "          \"materias\" :[\"EDD\",\"CyP\",\"Calidad\",\"Emprendimiento\"],\n",
        "          \"direccion\" : { \n",
        "                            \"calle\":\"rancho seco\",\n",
        "                            \"numero\" : 23 ,\n",
        "                            \"delegacion\" : \"Neza\",\n",
        "                            \"estado\" : {\n",
        "                                        \"id\" : 15 ,\n",
        "                                        \"nombre\" : \"Estado de México\",\n",
        "                                        \"nombre_corto\" : \"EdoMex\"\n",
        "                                       },\n",
        "                            \"CP\":56786\n",
        "                         }\n",
        "          }\n",
        "print(alumno)\n",
        "print(alumno['materias'])\n",
        "print(alumno['promedio'])\n",
        "print(alumno['direccion']['estado']['nombre_corto'])\n"
      ],
      "execution_count": null,
      "outputs": [
        {
          "output_type": "stream",
          "text": [
            "{}\n",
            "{'num_cta': 346510548}\n",
            "{'num_cta': 303030303, 'carrera': 'ICO', 'promedio': 9.8, 'materias': ['EDD', 'CyP', 'Calidad', 'Emprendimiento'], 'direccion': {'calle': 'rancho seco', 'numero': 23, 'delegacion': 'Neza', 'estado': {'id': 15, 'nombre': 'Estado de México', 'nombre_corto': 'EdoMex'}, 'CP': 56786}}\n",
            "['EDD', 'CyP', 'Calidad', 'Emprendimiento']\n",
            "9.8\n",
            "EdoMex\n"
          ],
          "name": "stdout"
        }
      ]
    }
  ]
}
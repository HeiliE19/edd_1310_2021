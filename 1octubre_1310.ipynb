{
  "nbformat": 4,
  "nbformat_minor": 0,
  "metadata": {
    "colab": {
      "name": "1octubre_1310.ipynb",
      "provenance": [],
      "authorship_tag": "ABX9TyPkl+WuKXcL0Ce9RYEQERON",
      "include_colab_link": true
    },
    "kernelspec": {
      "name": "python3",
      "display_name": "Python 3"
    }
  },
  "cells": [
    {
      "cell_type": "markdown",
      "metadata": {
        "id": "view-in-github",
        "colab_type": "text"
      },
      "source": [
        "<a href=\"https://colab.research.google.com/github/HeiliE19/edd_1310_2021/blob/main/1octubre_1310.ipynb\" target=\"_parent\"><img src=\"https://colab.research.google.com/assets/colab-badge.svg\" alt=\"Open In Colab\"/></a>"
      ]
    },
    {
      "cell_type": "markdown",
      "metadata": {
        "id": "uiUmuqNT76gD"
      },
      "source": [
        "## Intro Python 3\n",
        "### Variables\n",
        "tipo dinamico\n",
        "`'escuela = Fes Aragón'`"
      ]
    },
    {
      "cell_type": "code",
      "metadata": {
        "id": "UdkUXkQ18Ntq",
        "outputId": "4d047cfe-ab53-459d-c4d0-403798900c7e",
        "colab": {
          "base_uri": "https://localhost:8080/",
          "height": 187
        }
      },
      "source": [
        "escuela = 'FES Aragón'\n",
        "print(escuela)\n",
        "print('--------')\n",
        "edad = 13 \n",
        "estatura = 1.67\n",
        "fumador = True\n",
        "frase = \"\"\"\n",
        "Esta es\n",
        "una \n",
        "frase\n",
        "de múltiples líneas\n",
        "y también es\n",
        "un tipo de dato\n",
        "\"\"\"\n",
        "print(frase)\n",
        "\n",
        "nombre = 'José'\n",
        "nombre_completo = 'José Sosa Cárdenas'\n",
        "# el _ se le llama snake case\n"
      ],
      "execution_count": null,
      "outputs": [
        {
          "output_type": "stream",
          "text": [
            "FES Aragón\n",
            "--------\n",
            "\n",
            "Esta es\n",
            "una \n",
            "frase\n",
            "de múltiples líneas\n",
            "y también es\n",
            "un tipo de dato\n",
            "\n"
          ],
          "name": "stdout"
        }
      ]
    },
    {
      "cell_type": "markdown",
      "metadata": {
        "id": "z6_f-e5X92J1"
      },
      "source": [
        "#print \n",
        "lo puedes usar \n",
        "con comas, \n",
        "con signo +\n",
        "con format()\n",
        "con el operador f\"\"\n"
      ]
    },
    {
      "cell_type": "code",
      "metadata": {
        "id": "WLNqg1Au-YMW",
        "outputId": "f2e8392f-f81c-4422-8c70-a1bafc21edf6",
        "colab": {
          "base_uri": "https://localhost:8080/",
          "height": 34
        }
      },
      "source": [
        "#Agrega un espacio a las variables\n",
        "print(nombre , edad)"
      ],
      "execution_count": null,
      "outputs": [
        {
          "output_type": "stream",
          "text": [
            "José 13\n"
          ],
          "name": "stdout"
        }
      ]
    },
    {
      "cell_type": "code",
      "metadata": {
        "id": "4EEozsYZ_Nsw",
        "outputId": "cd95a4c8-8cf9-403e-a868-0ed9ba5a4ed2",
        "colab": {
          "base_uri": "https://localhost:8080/",
          "height": 51
        }
      },
      "source": [
        "#El + Concatena\n",
        "print(nombre + str(edad))\n",
        "print(nombre + nombre_completo)"
      ],
      "execution_count": null,
      "outputs": [
        {
          "output_type": "stream",
          "text": [
            "José13\n",
            "JoséJosé Sosa Cárdenas\n"
          ],
          "name": "stdout"
        }
      ]
    },
    {
      "cell_type": "code",
      "metadata": {
        "id": "trH9n9HtAWHQ",
        "outputId": "25eba1c3-075c-4fba-d81d-9b5694777950",
        "colab": {
          "base_uri": "https://localhost:8080/",
          "height": 68
        }
      },
      "source": [
        "# con formato ---> Su nombre es José y su edad es de 13 años.\n",
        "print(\"Su nombre es\",nombre,\"y su edad es de\",edad,\"años.\")\n",
        "print(\"Su nombre es {0} y su edad es de {1} años.\".format(nombre,edad))\n",
        "print(\"Su nombre es {1} y su edad es de {0} años.\".format(nombre,edad))"
      ],
      "execution_count": null,
      "outputs": [
        {
          "output_type": "stream",
          "text": [
            "Su nombre es José y su edad es de 13 años.\n",
            "Su nombre es José y su edad es de 13 años.\n",
            "Su nombre es 13 y su edad es de José años.\n"
          ],
          "name": "stdout"
        }
      ]
    },
    {
      "cell_type": "code",
      "metadata": {
        "id": "gA80xYHDBurE",
        "outputId": "f6ea5842-a5a9-4ede-dff2-b6094abd64bc",
        "colab": {
          "base_uri": "https://localhost:8080/",
          "height": 34
        }
      },
      "source": [
        "# con formato con el operador f\"\"\n",
        "print(f\"Su nombre es {nombre} y su edad es de {edad} años.\")\n",
        "print(f\"Su nombre es \\\"{nombre}\"\\ y su edad es de {edad} años.\")"
      ],
      "execution_count": null,
      "outputs": [
        {
          "output_type": "stream",
          "text": [
            "Su nombre es José y su edad es de 13 años.\n"
          ],
          "name": "stdout"
        }
      ]
    },
    {
      "cell_type": "markdown",
      "metadata": {
        "id": "hYkLa5duCRFz"
      },
      "source": [
        "# Carácter de escape\n",
        "\\n salto de línea\n",
        "\n",
        "\\t tabulador\n",
        "\n",
        "\\a beep\n",
        "\n",
        "\\\" imprimir comilla doble\n",
        "\n",
        "\\' imprimir comilla simple"
      ]
    },
    {
      "cell_type": "code",
      "metadata": {
        "id": "jdlMI9mRDIdu",
        "outputId": "2c16cfc5-7a4a-4b58-ebf9-c02917629285",
        "colab": {
          "base_uri": "https://localhost:8080/",
          "height": 51
        }
      },
      "source": [
        "\"\"\"\n",
        "Esto es \n",
        "un comentario\n",
        "de múltiple línea\n",
        "tan tan\n",
        "\"\"\"\n",
        "print(f\"\\tMi nombre es \\n\\t\\t {nombre} \")"
      ],
      "execution_count": null,
      "outputs": [
        {
          "output_type": "stream",
          "text": [
            "\tMi nombre es \n",
            "\t\t José \n"
          ],
          "name": "stdout"
        }
      ]
    },
    {
      "cell_type": "markdown",
      "metadata": {
        "id": "c_NyCZVKD-w0"
      },
      "source": [
        "#Ayuda de tipos de dato en python\n",
        "dir() help()"
      ]
    },
    {
      "cell_type": "code",
      "metadata": {
        "id": "B73unYlrEpNX"
      },
      "source": [
        "#str, int, float, bool... list, dict set\n",
        "help(str)\n"
      ],
      "execution_count": null,
      "outputs": []
    },
    {
      "cell_type": "code",
      "metadata": {
        "id": "y_86W4rXGiW5",
        "outputId": "342ce225-93d3-4af6-d138-2475daabaeec",
        "colab": {
          "base_uri": "https://localhost:8080/",
          "height": 51
        }
      },
      "source": [
        "print(nombre_completo.capitalize())\n",
        "print(nombre_completo.upper(), end=\" ------ \")\n",
        "print(nombre_completo.title())"
      ],
      "execution_count": null,
      "outputs": [
        {
          "output_type": "stream",
          "text": [
            "José sosa cárdenas\n",
            "JOSÉ SOSA CÁRDENAS------ José Sosa Cárdenas\n"
          ],
          "name": "stdout"
        }
      ]
    },
    {
      "cell_type": "code",
      "metadata": {
        "id": "lgIH73AEGGMb"
      },
      "source": [
        "help(print)"
      ],
      "execution_count": null,
      "outputs": []
    },
    {
      "cell_type": "markdown",
      "metadata": {
        "id": "A310KOkEHBYp"
      },
      "source": [
        "#clase String\n",
        "Es manejada como una rreglo(c o java) o lista (python) \n",
        "`telefono = \"Huawei mate 30 pro\"`\n"
      ]
    },
    {
      "cell_type": "code",
      "metadata": {
        "id": "pTm58LfaHDxH",
        "outputId": "6e73b423-77c5-457c-bb85-bf2b483c0508",
        "colab": {
          "base_uri": "https://localhost:8080/",
          "height": 34
        }
      },
      "source": [
        "telefono = \"Huawei mate 30 pro\"\n",
        "print(telefono[5]) #para imprimir la \"i\"\n"
      ],
      "execution_count": null,
      "outputs": [
        {
          "output_type": "stream",
          "text": [
            "i\n"
          ],
          "name": "stdout"
        }
      ]
    },
    {
      "cell_type": "markdown",
      "metadata": {
        "id": "fblv5lwEIRpK"
      },
      "source": [
        "#Slicing (rebanado)\n",
        "[inicio: stop: incremento]\n",
        "nota: el stop no se incluye, termina en el valor anterior al stop"
      ]
    },
    {
      "cell_type": "code",
      "metadata": {
        "id": "G3ELzEjcIcrl",
        "outputId": "7ca65195-5cae-45b8-97c9-e691ab7e81eb",
        "colab": {
          "base_uri": "https://localhost:8080/",
          "height": 102
        }
      },
      "source": [
        "print(telefono[7:11:1])\n",
        "#el inicio y el incremento son opcionales\n",
        "\n",
        "#para imprimir desde Huawei mate:\n",
        "print(telefono[:11:])\n",
        "\n",
        "#el valor por defecto de stop es len(str)\n",
        "print(telefono[::])\n",
        "\n",
        "#incremento negativo\n",
        "print(telefono[::-1])\n",
        "#Empieza de -3 ( \"p\",r,o) hasta el final\n",
        "ini = -3\n",
        "inc = 1\n",
        "print(telefono[-3::1])"
      ],
      "execution_count": null,
      "outputs": [
        {
          "output_type": "stream",
          "text": [
            "mate\n",
            "Huawei mate\n",
            "Huawei mate 30 pro\n",
            "orp 03 etam iewauH\n",
            "pro\n"
          ],
          "name": "stdout"
        }
      ]
    },
    {
      "cell_type": "markdown",
      "metadata": {
        "id": "5jHJ942KNQdS"
      },
      "source": [
        "# métodos de string (str)\n",
        "Existen métodos muy útiles en esta clase.\n"
      ]
    },
    {
      "cell_type": "code",
      "metadata": {
        "id": "POKe65zJNb_p",
        "outputId": "99936292-891b-47fd-f660-c61244e8d7a1",
        "colab": {
          "base_uri": "https://localhost:8080/"
        }
      },
      "source": [
        "facultad = \"    facultad de estudios superiores aragon      \\n\"\n",
        "print(facultad)\n",
        "print(facultad.count(\"u\")) #cuenta el número de elementos en la cadena\n",
        "print(facultad.find(\"s\")) #encuentra la posición del elemento\n",
        "print(facultad.index(\"s\"))\n",
        "print(facultad.strip()) #elimina espacios en blanco (al inicio y final), evita salto de linea\n",
        "tamaño = len(facultad)\n",
        "print(len(facultad)) #len regresa longitud del string\n",
        "print(f\"El tamaño de la cadena es {tamaño} caracteres\")\n",
        "print(facultad.lstrip()) #remueve espacios de la izquierda\n",
        "print(facultad.rstrip()) #remueve espacios de la derecha\n",
        "\n",
        "print (facultad)\n",
        "print(facultad.split(\"t\"))\n",
        "print(facultad.strip().split(\" \")) #strip para quitar los espacios seguidos\n",
        "#split para quitar el elemento deseado\n",
        "\n",
        "print('--------------------')\n",
        "#copiar cadenas\n",
        "otra_cadena = facultad\n",
        "print(otra_cadena)\n",
        "otra_cadena = \"FES Aragón\"\n",
        "print(facultad)\n",
        "print(otra_cadena)\n",
        "\n",
        "print(\"--------\")\n",
        "# copiar listas\n",
        "colores = [\"rojo\",\"verde\"]\n",
        "otra = colores.copy()\n",
        "print(colores)\n",
        "print(otra)\n",
        "otra.append(\"rosa\")\n",
        "print(colores)\n",
        "print(otra)\n"
      ],
      "execution_count": null,
      "outputs": [
        {
          "output_type": "stream",
          "text": [
            "    facultad de estudios superiores aragon      \n",
            "\n",
            "3\n",
            "17\n",
            "17\n",
            "facultad de estudios superiores aragon\n",
            "49\n",
            "El tamaño de la cadena es 49 caracteres\n",
            "facultad de estudios superiores aragon      \n",
            "\n",
            "    facultad de estudios superiores aragon\n",
            "    facultad de estudios superiores aragon      \n",
            "\n",
            "['    facul', 'ad de es', 'udios superiores aragon      \\n']\n",
            "['facultad', 'de', 'estudios', 'superiores', 'aragon']\n",
            "--------------------\n",
            "    facultad de estudios superiores aragon      \n",
            "\n",
            "    facultad de estudios superiores aragon      \n",
            "\n",
            "FES Aragón\n",
            "--------\n",
            "['rojo', 'verde']\n",
            "['rojo', 'verde']\n",
            "['rojo', 'verde']\n",
            "['rojo', 'verde', 'rosa']\n"
          ],
          "name": "stdout"
        }
      ]
    }
  ]
}
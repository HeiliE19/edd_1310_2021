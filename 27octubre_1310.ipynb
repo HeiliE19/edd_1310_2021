{
  "nbformat": 4,
  "nbformat_minor": 0,
  "metadata": {
    "colab": {
      "name": "27octubre_1310.ipynb",
      "provenance": [],
      "collapsed_sections": [],
      "authorship_tag": "ABX9TyPUxJ5NQsuWiRbdLOa2AF8F",
      "include_colab_link": true
    },
    "kernelspec": {
      "name": "python3",
      "display_name": "Python 3"
    }
  },
  "cells": [
    {
      "cell_type": "markdown",
      "metadata": {
        "id": "view-in-github",
        "colab_type": "text"
      },
      "source": [
        "<a href=\"https://colab.research.google.com/github/HeiliE19/edd_1310_2021/blob/main/27octubre_1310.ipynb\" target=\"_parent\"><img src=\"https://colab.research.google.com/assets/colab-badge.svg\" alt=\"Open In Colab\"/></a>"
      ]
    },
    {
      "cell_type": "code",
      "metadata": {
        "id": "J6AKqIGJBrLy",
        "outputId": "a47b4b56-2e8d-4201-ba11-772f3d7f1a92",
        "colab": {
          "base_uri": "https://localhost:8080/",
          "height": 70
        }
      },
      "source": [
        "class Computadora:\n",
        "    def __init__( self , m , p):\n",
        "        self.__marca = m  # '__' pone el atributo privado; no se puede modificar\n",
        "        self.__procesador = p\n",
        "\n",
        "    def to_string( self ):\n",
        "        return \"Marca:\"+self.__marca+\" \\tProcesador:\"+self.__procesador\n",
        "\n",
        "    def set_marca(self , m):\n",
        "        self.__marca = m\n",
        "    \n",
        "    def get_marca(self):\n",
        "        return self.__marca\n",
        "    \n",
        "    def set_procesador(self, p):\n",
        "        self.__procesador = p\n",
        "    \n",
        "    def get_procesador(self):\n",
        "        return self.__procesador\n",
        "\n",
        "mi_pc = Computadora(\"Toshiba\",\"Intel i7\")\n",
        "print(mi_pc.to_string())\n",
        "mi_pc.__marca=\"HP \" #intentando cambiar el valor privado\n",
        "\n",
        "mi_pc.set_marca('HP co.') #al encapsular (poner get y set) es posible cambiar el dato\n",
        "print(mi_pc.to_string()) \n",
        "\n",
        "print(mi_pc.get_procesador())  #obtenemos el dato de 'procesador'\n"
      ],
      "execution_count": null,
      "outputs": [
        {
          "output_type": "stream",
          "text": [
            "Marca:Toshiba \tProcesador:Intel i7\n",
            "Marca:HP co. \tProcesador:Intel i7\n",
            "Intel i7\n"
          ],
          "name": "stdout"
        }
      ]
    },
    {
      "cell_type": "markdown",
      "metadata": {
        "id": "A6gTIGC3EJlm"
      },
      "source": [
        "# encapsulamiento python 3\n",
        "## tradicional tipo Java\n",
        "  void setAtributo( val )\n",
        "  tipo getAtributo( )\n",
        "## estilo python 3\n",
        "UTILIZANDO DECORADORES\n",
        "- @property\n",
        "- @atributo.setter"
      ]
    },
    {
      "cell_type": "code",
      "metadata": {
        "id": "hWChyOCFCs8_",
        "outputId": "b60ca609-4ea0-42b9-bb8c-c5247353e650",
        "colab": {
          "base_uri": "https://localhost:8080/",
          "height": 105
        }
      },
      "source": [
        "class Computadora:\n",
        "    def __init__(self, m, p):\n",
        "      self.marca = m        # NO SE DECLARA, se manda a llamar el decorador property\n",
        "      self.procesador = p   #iden\n",
        "\n",
        "    @property       #se declara como atributo privado y funciona como método get\n",
        "    def marca( self ):  \n",
        "        return self.__marca \n",
        "    \n",
        "    @marca.setter       #método de acceso set\n",
        "    def marca(self,m):\n",
        "        print('En el setter de MARCA:')\n",
        "        self.__marca = m\n",
        "    \n",
        "    @property\n",
        "    def procesador(self):\n",
        "        return self.__procesador\n",
        "\n",
        "    @procesador.setter\n",
        "    def procesador(self, p):\n",
        "        print('En el método set de PROCESADOR:')\n",
        "        self.__procesador = p\n",
        "\n",
        "    def to_string( self ):\n",
        "        return 'Marca: '+self.marca+' \\tProcesador: '+self.procesador\n",
        "\n",
        "mi_pc2 = Computadora('Mac Book pro', 'intel i7')\n",
        "print(mi_pc2.to_string())\n",
        "mi_pc2.marca = 'Dell'\n",
        "print(mi_pc2.to_string())"
      ],
      "execution_count": null,
      "outputs": [
        {
          "output_type": "stream",
          "text": [
            "En el setter de MARCA:\n",
            "En el método set de PROCESADOR:\n",
            "Marca: Mac Book pro \tProcesador: intel i7\n",
            "En el setter de MARCA:\n",
            "Marca: Dell \tProcesador: intel i7\n"
          ],
          "name": "stdout"
        }
      ]
    },
    {
      "cell_type": "code",
      "metadata": {
        "id": "fJN_ahrWQiIY",
        "outputId": "3341207e-49c0-4baa-ae9d-7619f84ab97a",
        "colab": {
          "base_uri": "https://localhost:8080/",
          "height": 87
        }
      },
      "source": [
        "# herencia, pasando la clase base a la declaración\n",
        "class ServidorEmpresarial(Computadora):\n",
        "    def __init__(self):\n",
        "        print('Hola servidor')\n",
        "\n",
        "server = ServidorEmpresarial()\n",
        "server.marca = 'Sun Micro Systems'\n",
        "server.procesador = 'intel i7'\n",
        "print(server.to_string())"
      ],
      "execution_count": null,
      "outputs": [
        {
          "output_type": "stream",
          "text": [
            "Hola servidor\n",
            "En el setter de MARCA:\n",
            "En el método set de PROCESADOR:\n",
            "Marca: Sun Micro Systems \tProcesador: intel i7\n"
          ],
          "name": "stdout"
        }
      ]
    }
  ]
}
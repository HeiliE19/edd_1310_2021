{
  "nbformat": 4,
  "nbformat_minor": 0,
  "metadata": {
    "colab": {
      "name": "Tarea3_Clases.ipynb",
      "provenance": [],
      "authorship_tag": "ABX9TyMGCSkoFU7ErD1iguF46d+A",
      "include_colab_link": true
    },
    "kernelspec": {
      "name": "python3",
      "display_name": "Python 3"
    }
  },
  "cells": [
    {
      "cell_type": "markdown",
      "metadata": {
        "id": "view-in-github",
        "colab_type": "text"
      },
      "source": [
        "<a href=\"https://colab.research.google.com/github/HeiliE19/edd_1310_2021/blob/main/Tarea3_Clases.ipynb\" target=\"_parent\"><img src=\"https://colab.research.google.com/assets/colab-badge.svg\" alt=\"Open In Colab\"/></a>"
      ]
    },
    {
      "cell_type": "code",
      "metadata": {
        "id": "_Ca-P63Wab9o",
        "outputId": "0d6ea2b1-b201-49e7-ff05-197c76db1541",
        "colab": {
          "base_uri": "https://localhost:8080/",
          "height": 102
        }
      },
      "source": [
        "class Persona: #':' a continuación definieremos la clase computadora\n",
        "  def __init__( self, n , ed, es): #método constructor:\n",
        "    self.__nombre = n\n",
        "    self.__edad = ed\n",
        "    self.__estatura = es\n",
        " \n",
        " \n",
        "  def to_string( self ):\n",
        "      return 'Nombre:' +self.__nombre+'\\nEdad:'+self.__edad+'\\nEstatura:' +self.__estatura\n",
        "   \n",
        "  def dormir(): #método1\n",
        "      print('Está durmiendo') \n",
        "  \n",
        "  def comer(): #método2\n",
        "      print('Está comiendo')  \n",
        " \n",
        "per = Persona(' Rodrigo',' 19','1.7m')\n",
        "print(per.to_string())\n",
        " \n",
        "Persona.comer()\n",
        "Persona.dormir()"
      ],
      "execution_count": null,
      "outputs": [
        {
          "output_type": "stream",
          "text": [
            "Nombre: Rodrigo\n",
            "Edad: 19\n",
            "Estatura:1.7m\n",
            "Está comiendo\n",
            "Está durmiendo\n"
          ],
          "name": "stdout"
        }
      ]
    },
    {
      "cell_type": "code",
      "metadata": {
        "id": "nHUatBatgum9",
        "outputId": "4b928316-a0dd-48a2-d05d-b8ec12fd84eb",
        "colab": {
          "base_uri": "https://localhost:8080/",
          "height": 102
        }
      },
      "source": [
        "class Celular: #':' a continuación definieremos la clase computadora\n",
        "  def __init__( self, mar , mod, esp): #método constructor:\n",
        "    self.__marca = mar\n",
        "    self.__modelo = mod\n",
        "    self.__espacio = esp\n",
        " \n",
        " \n",
        "  def to_string( self ):\n",
        "      return 'Marca:' +self.__marca+'\\nModelo:'+self.__modelo+'\\nEspacio en memoria:' +self.__espacio\n",
        " \n",
        "  def llamar(): #método1\n",
        "      print('Llamando... ') \n",
        "  \n",
        "  def poner_alarma(): #método2\n",
        "      print('La alarma sonará en... ')  \n",
        " \n",
        "cel = Celular(' Huawei',' Mate 10 Pro',' 128GB')\n",
        "print(cel.to_string())\n",
        " \n",
        "Celular.llamar()\n",
        "Celular.poner_alarma()"
      ],
      "execution_count": null,
      "outputs": [
        {
          "output_type": "stream",
          "text": [
            "Marca: Huawei\n",
            "Modelo: Mate 10 Pro\n",
            "Espacio en memoria: 128GB\n",
            "Llamando... \n",
            "La alarma sonará en... \n"
          ],
          "name": "stdout"
        }
      ]
    }
  ]
}
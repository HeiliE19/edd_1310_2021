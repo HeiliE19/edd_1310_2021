{
  "nbformat": 4,
  "nbformat_minor": 0,
  "metadata": {
    "colab": {
      "name": "20octubre_1310.ipynb",
      "provenance": [],
      "authorship_tag": "ABX9TyPTHuy/TBJviwIBEyFqKFnm",
      "include_colab_link": true
    },
    "kernelspec": {
      "name": "python3",
      "display_name": "Python 3"
    }
  },
  "cells": [
    {
      "cell_type": "markdown",
      "metadata": {
        "id": "view-in-github",
        "colab_type": "text"
      },
      "source": [
        "<a href=\"https://colab.research.google.com/github/HeiliE19/edd_1310_2021/blob/main/20octubre_1310.ipynb\" target=\"_parent\"><img src=\"https://colab.research.google.com/assets/colab-badge.svg\" alt=\"Open In Colab\"/></a>"
      ]
    },
    {
      "cell_type": "code",
      "metadata": {
        "id": "uXbCGnmQxIeX"
      },
      "source": [
        "archivo = open('numeros.txt', 'rt')\n",
        "for linea in archivo.readlines()[:3:]:  #decir que los datos estan de la linea 0 a la linea 3\n",
        "  #print(linea)\n",
        "  for trunc in linea.split(','):\n",
        "    print(int(trunc.strip()))"
      ],
      "execution_count": null,
      "outputs": []
    },
    {
      "cell_type": "markdown",
      "metadata": {
        "id": "LmyHUZtU3ArO"
      },
      "source": [
        "#sintaxis del for en Python\n",
        "dos versiones de for\n",
        "1. range\n",
        "2. in iterator"
      ]
    },
    {
      "cell_type": "code",
      "metadata": {
        "id": "5mWtxtjc25CB",
        "outputId": "1e788551-a941-40c0-cb6b-ee0c30e4ea09",
        "colab": {
          "base_uri": "https://localhost:8080/",
          "height": 247
        }
      },
      "source": [
        "r = range(0,10,2)  #el stop no se incluye (ini, stop, salto)\n",
        "for x in r:\n",
        "  print(x)\n",
        "\n",
        "colores = ['rojo','rosa','azul','fucsia']\n",
        "\n",
        "for indice in range(0,4,1): # for(indice = 0; indice <4; indice++)  indice in range(0,len(colores),1) \n",
        "  print(colores[indice])\n",
        "  colores[indice] = colores[indice] + ' '+str(indice)\n",
        "\n",
        "# for sobre un iterador\n",
        "for col in colores:\n",
        "  print(col)\n"
      ],
      "execution_count": null,
      "outputs": [
        {
          "output_type": "stream",
          "text": [
            "0\n",
            "2\n",
            "4\n",
            "6\n",
            "8\n",
            "rojo\n",
            "rosa\n",
            "azul\n",
            "fucsia\n",
            "rojo 0\n",
            "rosa 1\n",
            "azul 2\n",
            "fucsia 3\n"
          ],
          "name": "stdout"
        }
      ]
    },
    {
      "cell_type": "markdown",
      "metadata": {
        "id": "YtpRHu258KDn"
      },
      "source": [
        "#generadores\n",
        "\n",
        "['hola' for x in range(10) ]\n",
        "\n",
        "`[[0,0,0],\n",
        " [0,0,0],\n",
        " [0,0,0]]\n",
        "`\n",
        "\n",
        "\n",
        "3x3\n",
        "\n"
      ]
    },
    {
      "cell_type": "code",
      "metadata": {
        "id": "Gfxmwmsu7-cr",
        "outputId": "9de0d1c1-c2de-4d01-ef19-b9c9011b724f",
        "colab": {
          "base_uri": "https://localhost:8080/",
          "height": 34
        }
      },
      "source": [
        "#lista = [x for x in range(10)] #pon el valor 0, 10 veces\n",
        "#lista = [x for x in range(10)] #pone valores de  0 a 9 (10 valores)\n",
        "#lista = [x for x in colores]\n",
        "#print(lista)\n",
        "\n",
        "lista = [ [0,0,0] for x in range(3)]\n",
        "print(lista)"
      ],
      "execution_count": null,
      "outputs": [
        {
          "output_type": "stream",
          "text": [
            "[[0, 0, 0], [0, 0, 0], [0, 0, 0]]\n"
          ],
          "name": "stdout"
        }
      ]
    },
    {
      "cell_type": "code",
      "metadata": {
        "id": "aknDtIDi-NWA",
        "outputId": "626dabf2-addd-4de5-f281-1af1b94295b4",
        "colab": {
          "base_uri": "https://localhost:8080/",
          "height": 34
        }
      },
      "source": [
        "ren = 3\n",
        "col = 3\n",
        "lista = [[0 for x in range(col)]for x in range(ren)]\n",
        "print(lista)"
      ],
      "execution_count": null,
      "outputs": [
        {
          "output_type": "stream",
          "text": [
            "[[0, 0, 0], [0, 0, 0], [0, 0, 0]]\n"
          ],
          "name": "stdout"
        }
      ]
    },
    {
      "cell_type": "markdown",
      "metadata": {
        "id": "hmrys0pk_HbM"
      },
      "source": [
        "# POO en Python\n",
        "- clase\n",
        "- creación de objetos \n",
        "- constructor \n",
        "- encapsulamiento \n",
        "- métodos \n",
        "- atributos \n",
        "- herencia"
      ]
    },
    {
      "cell_type": "code",
      "metadata": {
        "id": "D4BtuZxl_aZt",
        "outputId": "9932c99d-8159-491a-cbf0-aecec56ac206",
        "colab": {
          "base_uri": "https://localhost:8080/",
          "height": 52
        }
      },
      "source": [
        "class Computadora: #':' a continuación definieremos la clase computadora\n",
        "  def __init__( self, m , p ): #método constructor:\n",
        "    self.__marca = m\n",
        "    self.__procesador = p\n",
        "    print('creando el objeto')\n",
        "\n",
        "\n",
        "  def to_string( self ):\n",
        "      return 'Marca:' +self.__marca+' Procesador:'+self.__procesador\n",
        "\n",
        "mi_pc = Computadora(' Toshiba',' Intel i7')\n",
        "mi_pc.__marca=' HP ' #al añadir guines bajos antes de marca y procesador(convierte a privados), no modifica 'HP'\n",
        "print(mi_pc.to_string())"
      ],
      "execution_count": null,
      "outputs": [
        {
          "output_type": "stream",
          "text": [
            "creando el objeto\n",
            "Marca: Toshiba Procesador: Intel i7\n"
          ],
          "name": "stdout"
        }
      ]
    }
  ]
}
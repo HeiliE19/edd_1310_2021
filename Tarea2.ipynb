{
  "nbformat": 4,
  "nbformat_minor": 0,
  "metadata": {
    "colab": {
      "name": "Tarea2.ipynb",
      "provenance": [],
      "collapsed_sections": [],
      "authorship_tag": "ABX9TyMxHPejZKV5y1HB71D/7ybu",
      "include_colab_link": true
    },
    "kernelspec": {
      "name": "python3",
      "display_name": "Python 3"
    }
  },
  "cells": [
    {
      "cell_type": "markdown",
      "metadata": {
        "id": "view-in-github",
        "colab_type": "text"
      },
      "source": [
        "<a href=\"https://colab.research.google.com/github/HeiliE19/edd_1310_2021/blob/main/Tarea2.ipynb\" target=\"_parent\"><img src=\"https://colab.research.google.com/assets/colab-badge.svg\" alt=\"Open In Colab\"/></a>"
      ]
    },
    {
      "cell_type": "code",
      "metadata": {
        "id": "-YkgmAE1rchO",
        "outputId": "dc55f4c7-c5ae-44fe-bc85-6067b806b0cd",
        "colab": {
          "base_uri": "https://localhost:8080/",
          "height": 390
        }
      },
      "source": [
        "txt = open('Datos.txt', \"rt\")\n",
        "data = 'm'\n",
        "lsm = []\n",
        "suma_renglon = 0\n",
        "suma_txt = 0\n",
        "numren = 0\n",
        "\n",
        "while(data !=\"\"):\n",
        "  data = txt.readline()\n",
        "  esp = data.replace(' ','')\n",
        "  esp = esp.replace('\\n','')\n",
        "  if esp != '':\n",
        "    lsm = esp.split(',')\n",
        "    #print(lsm)\n",
        "    j = 0\n",
        "    for a in lsm:\n",
        "      entero = int(lsm[j])\n",
        "      suma_renglon += entero\n",
        "      suma_txt += entero\n",
        "      j += 1\n",
        "    numren+=1\n",
        "    print(f\"La suma del renglón {numren} es: \", suma_renglon,'\\n')\n",
        "    suma_renglon = 0\n",
        "\n",
        "print('La suma de todos los renglones es ',suma_txt)"
      ],
      "execution_count": null,
      "outputs": [
        {
          "output_type": "stream",
          "text": [
            "La suma del renglón 1 es:  406 \n",
            "\n",
            "La suma del renglón 2 es:  367 \n",
            "\n",
            "La suma del renglón 3 es:  814 \n",
            "\n",
            "La suma del renglón 4 es:  391 \n",
            "\n",
            "La suma del renglón 5 es:  786 \n",
            "\n",
            "La suma del renglón 6 es:  513 \n",
            "\n",
            "La suma del renglón 7 es:  745 \n",
            "\n",
            "La suma del renglón 8 es:  585 \n",
            "\n",
            "La suma del renglón 9 es:  154 \n",
            "\n",
            "La suma del renglón 10 es:  220 \n",
            "\n",
            "La suma de todos los renglones es  4981\n"
          ],
          "name": "stdout"
        }
      ]
    }
  ]
}
{
  "nbformat": 4,
  "nbformat_minor": 0,
  "metadata": {
    "colab": {
      "name": "13octubre_1310.ipynb",
      "provenance": [],
      "authorship_tag": "ABX9TyPXHOyZ4chiKfronahvxciP",
      "include_colab_link": true
    },
    "kernelspec": {
      "name": "python3",
      "display_name": "Python 3"
    }
  },
  "cells": [
    {
      "cell_type": "markdown",
      "metadata": {
        "id": "view-in-github",
        "colab_type": "text"
      },
      "source": [
        "<a href=\"https://colab.research.google.com/github/HeiliE19/edd_1310_2021/blob/main/13octubre_1310.ipynb\" target=\"_parent\"><img src=\"https://colab.research.google.com/assets/colab-badge.svg\" alt=\"Open In Colab\"/></a>"
      ]
    },
    {
      "cell_type": "code",
      "metadata": {
        "id": "HZoIEkWvu2i5",
        "outputId": "1d6f2b99-5ccd-4dad-c236-395ea4bd525f",
        "colab": {
          "base_uri": "https://localhost:8080/",
          "height": 105
        }
      },
      "source": [
        "alumno = { \n",
        "          \"num_cta\" : 303030303 ,\n",
        "          \"carrera\" : \"ICO\",\n",
        "          \"promedio\" : 9.8,\n",
        "          \"materias\" :[\"EDD\",\"CyP\",\"Calidad\",\"Emprendimiento\"],\n",
        "          \"direccion\" : { \n",
        "                            \"calle\":\"rancho seco\",\n",
        "                            \"numero\" : 23 ,\n",
        "                            \"delegacion\" : \"Neza\",\n",
        "                            \"estado\" : {\n",
        "                                        \"id\" : 15 ,\n",
        "                                        \"nombre\" : \"Estado de Máxico\" ,\n",
        "                                        \"nombre_corto\" : \"EdoMex\"\n",
        "                                        } ,\n",
        "                            \"CP\":57170\n",
        "\n",
        "                        } \n",
        "          }\n",
        "print(alumno)\n",
        "alumno['carrera'] = \"ingeniería en Computación\"\n",
        "print(alumno)\n",
        "alumno['nombre_completo']={'primer':'Juan',\n",
        "                           'segundo':'Pedro',\n",
        "                           'materno':'Pérez',\n",
        "                           'paterno':'Gómez'\n",
        "                           }\n",
        "alumno['semestre']= 3\n",
        "print(alumno)\n",
        "print(f\"{alumno['nombre_completo']['primer']} {alumno['nombre_completo']['segundo']} {alumno['nombre_completo']['materno']} {alumno['nombre_completo']['paterno']}\")\n"
      ],
      "execution_count": null,
      "outputs": [
        {
          "output_type": "stream",
          "text": [
            "{'num_cta': 303030303, 'carrera': 'ICO', 'promedio': 9.8, 'materias': ['EDD', 'CyP', 'Calidad', 'Emprendimiento'], 'direccion': {'calle': 'rancho seco', 'numero': 23, 'delegacion': 'Neza', 'estado': {'id': 15, 'nombre': 'Estado de Máxico', 'nombre_corto': 'EdoMex'}, 'CP': 57170}}\n",
            "{'num_cta': 303030303, 'carrera': 'ingeniería en Computación', 'promedio': 9.8, 'materias': ['EDD', 'CyP', 'Calidad', 'Emprendimiento'], 'direccion': {'calle': 'rancho seco', 'numero': 23, 'delegacion': 'Neza', 'estado': {'id': 15, 'nombre': 'Estado de Máxico', 'nombre_corto': 'EdoMex'}, 'CP': 57170}}\n",
            "{'num_cta': 303030303, 'carrera': 'ingeniería en Computación', 'promedio': 9.8, 'materias': ['EDD', 'CyP', 'Calidad', 'Emprendimiento'], 'direccion': {'calle': 'rancho seco', 'numero': 23, 'delegacion': 'Neza', 'estado': {'id': 15, 'nombre': 'Estado de Máxico', 'nombre_corto': 'EdoMex'}, 'CP': 57170}, 'nombre_completo': {'primer': 'Juan', 'segundo': 'Pedro', 'materno': 'Pérez', 'paterno': 'Gómez'}, 'semestre': 3}\n",
            "Juan Pedro Pérez Gómez\n"
          ],
          "name": "stdout"
        }
      ]
    },
    {
      "cell_type": "code",
      "metadata": {
        "id": "N0L95INXw5Wq",
        "outputId": "2c8e0846-f247-410a-8750-fc36a1ed1dcb",
        "colab": {
          "base_uri": "https://localhost:8080/",
          "height": 428
        }
      },
      "source": [
        "# key(), value() e items()\n",
        "\n",
        "llaves = alumno.keys() #entra al diccionario, obtiene lado izquierdo de  los pares\n",
        "print(llaves)\n",
        "for llave in llaves: \n",
        "  print(llave.upper())\n",
        "\n",
        "valores = alumno.values() #obtiene lado derecho de los pares\n",
        "for val in valores:\n",
        "  print(val)\n",
        "\n",
        "pares = alumno.items() #obtiene ambos lados, \n",
        "print(pares) #Los valores no pueden ser modificados, solo consultados\n",
        "for elem in pares:\n",
        "  print(f'el campo {elem[0]} tiene valor {elem[1]}')\n",
        "  "
      ],
      "execution_count": null,
      "outputs": [
        {
          "output_type": "stream",
          "text": [
            "dict_keys(['num_cta', 'carrera', 'promedio', 'materias', 'direccion', 'nombre_completo', 'semestre'])\n",
            "NUM_CTA\n",
            "CARRERA\n",
            "PROMEDIO\n",
            "MATERIAS\n",
            "DIRECCION\n",
            "NOMBRE_COMPLETO\n",
            "SEMESTRE\n",
            "303030303\n",
            "ingeniería en Computación\n",
            "9.8\n",
            "['EDD', 'CyP', 'Calidad', 'Emprendimiento']\n",
            "{'calle': 'rancho seco', 'numero': 23, 'delegacion': 'Neza', 'estado': {'id': 15, 'nombre': 'Estado de Máxico', 'nombre_corto': 'EdoMex'}, 'CP': 57170}\n",
            "{'primer': 'Juan', 'segundo': 'Pedro', 'materno': 'Pérez', 'paterno': 'Gómez'}\n",
            "3\n",
            "dict_items([('num_cta', 303030303), ('carrera', 'ingeniería en Computación'), ('promedio', 9.8), ('materias', ['EDD', 'CyP', 'Calidad', 'Emprendimiento']), ('direccion', {'calle': 'rancho seco', 'numero': 23, 'delegacion': 'Neza', 'estado': {'id': 15, 'nombre': 'Estado de Máxico', 'nombre_corto': 'EdoMex'}, 'CP': 57170}), ('nombre_completo', {'primer': 'Juan', 'segundo': 'Pedro', 'materno': 'Pérez', 'paterno': 'Gómez'}), ('semestre', 3)])\n",
            "el campo num_cta tiene valor 303030303\n",
            "el campo carrera tiene valor ingeniería en Computación\n",
            "el campo promedio tiene valor 9.8\n",
            "el campo materias tiene valor ['EDD', 'CyP', 'Calidad', 'Emprendimiento']\n",
            "el campo direccion tiene valor {'calle': 'rancho seco', 'numero': 23, 'delegacion': 'Neza', 'estado': {'id': 15, 'nombre': 'Estado de Máxico', 'nombre_corto': 'EdoMex'}, 'CP': 57170}\n",
            "el campo nombre_completo tiene valor {'primer': 'Juan', 'segundo': 'Pedro', 'materno': 'Pérez', 'paterno': 'Gómez'}\n",
            "el campo semestre tiene valor 3\n"
          ],
          "name": "stdout"
        }
      ]
    },
    {
      "cell_type": "code",
      "metadata": {
        "id": "zPtVVbjb1FEe",
        "outputId": "50cd4295-ea41-4035-8645-e9a779f1c630",
        "colab": {
          "base_uri": "https://localhost:8080/",
          "height": 54
        }
      },
      "source": [
        "computadora = {'procesador':'intel i7','ram':'Kingston 128GB'}\n",
        "otros = {'monitor':\"LG 49\\\"\",'hd':'Toshiba 1TB'}\n",
        "computadora.update(otros) #concatena \"computadora\" y \"otros\"\n",
        "#actualiza el diccionario computadora y agrega los pares de \"otros\"\n",
        "print(computadora)\n"
      ],
      "execution_count": null,
      "outputs": [
        {
          "output_type": "stream",
          "text": [
            "{'procesador': 'intel i7', 'ram': 'Kingston 128GB', 'monitor': 'LG 49\"', 'hd': 'Toshiba 1TB'}\n"
          ],
          "name": "stdout"
        }
      ]
    },
    {
      "cell_type": "markdown",
      "metadata": {
        "id": "oVoH68vv26y_"
      },
      "source": [
        "#funciones\n",
        "- unidades de código reutilizable\n",
        "- es un mecanismo de organización de código \n",
        "- una funcion toma de 0 a n parámetros de entrada\n",
        "- solo puedes hacer dos cosas\n",
        "  - definirla\n",
        "  - llamarla\n",
        "- se definen con la palabra reservada 'def'\n"
      ]
    },
    {
      "cell_type": "code",
      "metadata": {
        "id": "hRVErGrD3ysP",
        "outputId": "87803677-ca6d-4c77-a1e3-232616d651f1",
        "colab": {
          "base_uri": "https://localhost:8080/",
          "height": 187
        }
      },
      "source": [
        "def sumar( x , y ):\n",
        "  resultado = x + y\n",
        "  return resultado\n",
        "\n",
        "def saludar( nombre ):\n",
        "  print(f'Hola {nombre},', '¿Cómo estás?')\n",
        "  return None #equivalente a Void (vacío)\n",
        "\n",
        "# procesar None\n",
        "def multiplicar(valor, veces):\n",
        "  if valor != None:\n",
        "    c = valor * veces\n",
        "  else:\n",
        "    c = 'Operación no válida'\n",
        "  return c\n",
        "\n",
        "def operación( a, b, c):\n",
        "  res = a + (b/c)\n",
        "  return res\n",
        "\n",
        "print(sumar(10,5))\n",
        "print(sumar(15,8))\n",
        "c = sumar(3,7)\n",
        "print(c)\n",
        "saludar('Pancho')\n",
        "print (saludar('Juan'))\n",
        "print(multiplicar(5,6))\n",
        "print(multiplicar(None,6))\n",
        "\n",
        "print(operación(2,9,3))\n",
        "print(operación(a=2,c=3,b=9))"
      ],
      "execution_count": null,
      "outputs": [
        {
          "output_type": "stream",
          "text": [
            "15\n",
            "23\n",
            "10\n",
            "Hola Pancho, ¿Cómo estás?\n",
            "Hola Juan, ¿Cómo estás?\n",
            "None\n",
            "30\n",
            "Operación no válida\n",
            "5.0\n",
            "5.0\n"
          ],
          "name": "stdout"
        }
      ]
    },
    {
      "cell_type": "code",
      "metadata": {
        "id": "c8M5O-7M-mK2",
        "outputId": "e7353c4e-3a44-49e8-8efc-ebbb37256dc6",
        "colab": {
          "base_uri": "https://localhost:8080/",
          "height": 292
        }
      },
      "source": [
        "\n",
        "# valores por defecto\n",
        "def comanda( primer, fuerte, postre = 'Galleta de animalito'):\n",
        "  print(f'De entrada pidió: { primer }')\n",
        "  print(f'De plato fuerte: { fuerte }')\n",
        "  print(f'Postre: {postre}')\n",
        "\n",
        "# argumentos posicionales con tuplas\n",
        "def comanda_2( *opciones ): #por cada argumento que reciba va a ser una tupla\n",
        "  print(opciones)\n",
        "  print(f'De entrada pidió: { opciones[0]}')\n",
        "  print(f'De plato fuerte: { opciones[1] }')\n",
        "  print(f'Postre: {opciones[2]}')\n",
        "  print(f'\\nIndicaciones extra:')\n",
        "  for ind in opciones[3::]:\n",
        "    print(f'\\t {ind}')\n",
        "\n",
        "comanda('sopa aguada', 'Tortas de papa', 'Galleta de limón')\n",
        "comanda('sopa aguada','tortas de papa')\n",
        "comanda_2('sopa aguada', 'Tortas de papa', 'Galleta de limón',\n",
        "          \"las tortas bien doradas\",\"traer dos limones\",\"Agua con hielo\")\n"
      ],
      "execution_count": null,
      "outputs": [
        {
          "output_type": "stream",
          "text": [
            "De entrada pidió: sopa aguada\n",
            "De plato fuerte: Tortas de papa\n",
            "Postre: Galleta de limón\n",
            "De entrada pidió: sopa aguada\n",
            "De plato fuerte: tortas de papa\n",
            "Postre: Galleta de animalito\n",
            "('sopa aguada', 'Tortas de papa', 'Galleta de limón', 'las tortas bien doradas', 'traer dos limones', 'Agua con hielo')\n",
            "De entrada pidió: sopa aguada\n",
            "De plato fuerte: Tortas de papa\n",
            "Postre: Galleta de limón\n",
            "\n",
            "Indicaciones extra:\n",
            "\t las tortas bien doradas\n",
            "\t traer dos limones\n",
            "\t Agua con hielo\n"
          ],
          "name": "stdout"
        }
      ]
    },
    {
      "cell_type": "code",
      "metadata": {
        "id": "xHlrQdDOCLqT",
        "outputId": "e643153a-5850-4b93-949c-873f1a1ef536",
        "colab": {
          "base_uri": "https://localhost:8080/",
          "height": 156
        }
      },
      "source": [
        "# argumentos posicionales con diccionarios **\n",
        "def comanda_3(**opciones):\n",
        "  print(opciones)\n",
        "  for op in opciones.items():\n",
        "    print(f'{op[0]} --> {op[1]}')\n",
        "comanda_3(primer='sopa aguada', fuerte='Tortas de papa', postre='Galleta de limón',\n",
        "          extra1=\"las tortas bien doradas\",extra2=\"traer dos limones\",extra3=\"Agua con hielo\")"
      ],
      "execution_count": null,
      "outputs": [
        {
          "output_type": "stream",
          "text": [
            "{'primer': 'sopa aguada', 'fuerte': 'Tortas de papa', 'postre': 'Galleta de limón', 'extra1': 'las tortas bien doradas', 'extra2': 'traer dos limones', 'extra3': 'Agua con hielo'}\n",
            "primer --> sopa aguada\n",
            "fuerte --> Tortas de papa\n",
            "postre --> Galleta de limón\n",
            "extra1 --> las tortas bien doradas\n",
            "extra2 --> traer dos limones\n",
            "extra3 --> Agua con hielo\n"
          ],
          "name": "stdout"
        }
      ]
    }
  ]
}
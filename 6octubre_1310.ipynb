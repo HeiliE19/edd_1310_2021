{
  "nbformat": 4,
  "nbformat_minor": 0,
  "metadata": {
    "colab": {
      "name": "6octubre_1310.ipynb",
      "provenance": [],
      "collapsed_sections": [],
      "authorship_tag": "ABX9TyOzyM6ZOquGv0In7CdyKhK/",
      "include_colab_link": true
    },
    "kernelspec": {
      "name": "python3",
      "display_name": "Python 3"
    }
  },
  "cells": [
    {
      "cell_type": "markdown",
      "metadata": {
        "id": "view-in-github",
        "colab_type": "text"
      },
      "source": [
        "<a href=\"https://colab.research.google.com/github/HeiliE19/edd_1310_2021/blob/main/6octubre_1310.ipynb\" target=\"_parent\"><img src=\"https://colab.research.google.com/assets/colab-badge.svg\" alt=\"Open In Colab\"/></a>"
      ]
    },
    {
      "cell_type": "code",
      "metadata": {
        "id": "1vZSn52qqjDD",
        "outputId": "5a36624b-353a-4578-fa43-54fe681eff56",
        "colab": {
          "base_uri": "https://localhost:8080/",
          "height": 272
        }
      },
      "source": [
        "# String continuación\n",
        "\n",
        "numeros_txt = \"   1, 2, 3, 4  , 5  , 35  , 15, 12\"\n",
        "print(numeros_txt)\n",
        "numeros_txt = numeros_txt.lstrip().split(',')  #lstrip quitar espacios a la izq\n",
        "#split(',') para separar por comas\n",
        "print(numeros_txt)\n",
        "\n",
        "#quitar los espacios y convertirlos a enteros\n",
        "for j in range(len(numeros_txt)): #j va de 0 al tamaño de los elementos (7)\n",
        "  numeros_txt[j] = int(numeros_txt[j].strip()) #int convierte a enteros, strip quita espacios\n",
        "\n",
        "print(numeros_txt)\n",
        "\n",
        "#funcion range\n",
        "#range(inicio, stop, incremento)\n",
        "print(range(0,10,1))\n",
        "\n",
        "rango=range(1,2,10)\n",
        "for x in rango:\n",
        "  print(x)\n",
        "\n",
        "rango = range(10)\n",
        "for x in rango:\n",
        "  print(x)"
      ],
      "execution_count": null,
      "outputs": [
        {
          "output_type": "stream",
          "text": [
            "   1, 2, 3, 4  , 5  , 35  , 15, 12\n",
            "['1', ' 2', ' 3', ' 4  ', ' 5  ', ' 35  ', ' 15', ' 12']\n",
            "[1, 2, 3, 4, 5, 35, 15, 12]\n",
            "range(0, 10)\n",
            "1\n",
            "0\n",
            "1\n",
            "2\n",
            "3\n",
            "4\n",
            "5\n",
            "6\n",
            "7\n",
            "8\n",
            "9\n"
          ],
          "name": "stdout"
        }
      ]
    },
    {
      "cell_type": "markdown",
      "metadata": {
        "id": "Wx9Ae2k2xH6M"
      },
      "source": [
        "#listas\n",
        "- mutables\n",
        "- se declaran con []\n",
        "- selector [ int ] \n",
        "\n",
        "#tuplas\n",
        "- NO mutables\n",
        "- declaran con ( )\n",
        "- selector [ int ]\n",
        "\n",
        "#diccionarios\n",
        "- Son mutables\n",
        "- Son conjunto de pares llave: valor\n",
        "- Equivalentes a los Objetos JSON de JavaScript\n",
        "\n",
        "#conjuntos\n",
        "- representación de la teoría de conjuntos"
      ]
    },
    {
      "cell_type": "code",
      "metadata": {
        "id": "s5SFMRcCyWe-",
        "outputId": "42cb3d83-9ad1-40f1-969d-c5511f7c5b13",
        "colab": {
          "base_uri": "https://localhost:8080/",
          "height": 153
        }
      },
      "source": [
        "# Listas (Equivalentes a arreglos en otros lenguajes de programación)\n",
        "frutas = [ \"Pera\", \"Manzana\", \"fresa\", \"Kiwi\", \"Naranja\"]\n",
        "print(frutas)\n",
        "cosas = [\"cuaderno\",2,3.1416, True, False, [\"Rojo\", \"Azul\"]]\n",
        "print(cosas)\n",
        "\n",
        "frutas[2]=\"Fresa\" \n",
        "print(frutas)\n",
        "#frutas[2].capitalize()\n",
        "frutas[2] = frutas[2].capitalize()\n",
        "print(frutas)\n",
        "\n",
        "#Agregar dato a lista\n",
        "frutas.append(\"Aguacate\")  #append manda el dato al final\n",
        "print(frutas)\n",
        "frutas.insert(2,\"Sandía\") #insert (posición, dato)\n",
        "print(frutas)\n",
        "\n",
        "#concatenar listas\n",
        "fecha = [\"06\",\"10\",\"2020\"] # 06/10/2020\n",
        "print(fecha)\n",
        "\"/\".join(fecha)  #Sirve para concatenar con una lista\n",
        "fecha_str = \"/\".join(fecha)\n",
        "print(fecha_str)\n"
      ],
      "execution_count": null,
      "outputs": [
        {
          "output_type": "stream",
          "text": [
            "['Pera', 'Manzana', 'fresa', 'Kiwi', 'Naranja']\n",
            "['cuaderno', 2, 3.1416, True, False, ['Rojo', 'Azul']]\n",
            "['Pera', 'Manzana', 'Fresa', 'Kiwi', 'Naranja']\n",
            "['Pera', 'Manzana', 'Fresa', 'Kiwi', 'Naranja']\n",
            "['Pera', 'Manzana', 'Fresa', 'Kiwi', 'Naranja', 'Aguacate']\n",
            "['Pera', 'Manzana', 'Sandía', 'Fresa', 'Kiwi', 'Naranja', 'Aguacate']\n",
            "['06', '10', '2020']\n",
            "06/10/2020\n"
          ],
          "name": "stdout"
        }
      ]
    },
    {
      "cell_type": "code",
      "metadata": {
        "id": "lIJXj5yN3SP9",
        "outputId": "5050311c-7daa-4498-cba8-2f2187af7065",
        "colab": {
          "base_uri": "https://localhost:8080/",
          "height": 187
        }
      },
      "source": [
        "# eliminar elementos\n",
        "cosas = [\"cuaderno\",2,3.1416, True, False, [\"Rojo\", \"Azul\"]]\n",
        "print(cosas)\n",
        "cosas.append(\"Libro\")\n",
        "cosas.append(\"Lápiz\")\n",
        "print (cosas)\n",
        "algo = cosas.pop()  #almacena lo que eliminé\n",
        "print(cosas)\n",
        "print(algo) #imprime el dato eliminado\n",
        "\n",
        "algo = cosas.pop(2)\n",
        "print(cosas)\n",
        "print(algo)\n",
        "cosas.remove(2)\n",
        "print(cosas)\n",
        "\n",
        "# vaciar una lista\n",
        "cosas.clear()\n",
        "print(cosas)\n",
        "\n",
        "# ordenar las listas\n",
        "print(frutas)\n",
        "frutas.sort()   #organiza alfabeticamente\n",
        "print(frutas)\n",
        "\n",
        "#cosas.sort()    los datos deben tener congruencia entre ellos para poder ser ordenados\n",
        "#print (cosas)\n",
        "\n",
        "#Se modifica la lista"
      ],
      "execution_count": null,
      "outputs": [
        {
          "output_type": "stream",
          "text": [
            "['cuaderno', 2, 3.1416, True, False, ['Rojo', 'Azul']]\n",
            "['cuaderno', 2, 3.1416, True, False, ['Rojo', 'Azul'], 'Libro', 'Lápiz']\n",
            "['cuaderno', 2, 3.1416, True, False, ['Rojo', 'Azul'], 'Libro']\n",
            "Lápiz\n",
            "['cuaderno', 2, True, False, ['Rojo', 'Azul'], 'Libro']\n",
            "3.1416\n",
            "['cuaderno', True, False, ['Rojo', 'Azul'], 'Libro']\n",
            "[]\n",
            "['Aguacate', 'Fresa', 'Kiwi', 'Manzana', 'Naranja', 'Pera', 'Sandía']\n",
            "['Aguacate', 'Fresa', 'Kiwi', 'Manzana', 'Naranja', 'Pera', 'Sandía']\n"
          ],
          "name": "stdout"
        }
      ]
    },
    {
      "cell_type": "code",
      "metadata": {
        "id": "fxEsTibr7Hqz",
        "outputId": "39175d9a-249a-496f-9830-7ad849a91637",
        "colab": {
          "base_uri": "https://localhost:8080/",
          "height": 136
        }
      },
      "source": [
        "#Slicing\n",
        "\n",
        "cosas = [\"cuaderno\",2,3.1416, True, False, [\"Rojo\", \"Azul\"]]\n",
        "print(cosas[3:5:1]) #te regresa lo que seleccionas pero no modifica\n",
        "\n",
        "print(cosas)\n",
        "print(cosas[0][3:5:1])  #imprimir \"de\" de la palabra \"cuaderno\"\n",
        "\n",
        "numeros = [0,1,2,3,4,5,6,7,8,9,10,11,12,13,14,15]\n",
        "print(numeros[8:13:1])\n",
        "print(numeros[0:16:2])\n",
        "\n",
        "# sustituir rebanadas -2,-2 -->\n",
        "numeros[8:13:1] = [-2,-2]\n",
        "print(numeros)\n",
        "\n",
        "# preguntar por existencia\n",
        "print(100 in numeros)\n"
      ],
      "execution_count": null,
      "outputs": [
        {
          "output_type": "stream",
          "text": [
            "[True, False]\n",
            "['cuaderno', 2, 3.1416, True, False, ['Rojo', 'Azul']]\n",
            "de\n",
            "[8, 9, 10, 11, 12]\n",
            "[0, 2, 4, 6, 8, 10, 12, 14]\n",
            "[0, 1, 2, 3, 4, 5, 6, 7, -2, -2, 13, 14, 15]\n",
            "False\n"
          ],
          "name": "stdout"
        }
      ]
    },
    {
      "cell_type": "markdown",
      "metadata": {
        "id": "dtXLNdJh_DQo"
      },
      "source": [
        "#listas multi dimensión\n",
        "listas dentro de listas"
      ]
    },
    {
      "cell_type": "code",
      "metadata": {
        "id": "SSAfq1iZ_B_G",
        "outputId": "ce4c204b-2ad2-4d2c-f3e0-f4f0a8bd8b12",
        "colab": {
          "base_uri": "https://localhost:8080/",
          "height": 207
        }
      },
      "source": [
        "computadoras = [\"HP\", \"Mac Book Pro 17\", \"Mate book\", \"Lenovo legion\"]\n",
        "oss = [ \"Windows 10\", \"Linux\",\"Android\",\"iOS\"]\n",
        "\n",
        "computo = [computadoras, oss]\n",
        "print(computo[0])\n",
        "print(computo[1])\n",
        "print(computo[0][2]) #mostrar Mate book\n",
        "print(computo[0][2][0:5]) #mostrar Mate\n",
        "print(computo[0][3][5::-1])   #mostrar Lenovo al revés, se omite el 0 para que imprima todo\n",
        "print(computo[0][3][-8::-1])\n",
        "print (\"Linux\" in computo[1])\n",
        "\n",
        "dbms = [[\"MySQL\",\"Open Source\", False],[\"MS SQL Server\",\"de paga\",True]]\n",
        "computo.append(dbms)\n",
        "print(computo)\n",
        "print(computo[2][0][0]) #imprimir \"MySQL\"\n",
        "print(computo[2][1][1]) #imprimir \"de paga\""
      ],
      "execution_count": null,
      "outputs": [
        {
          "output_type": "stream",
          "text": [
            "['HP', 'Mac Book Pro 17', 'Mate book', 'Lenovo legion']\n",
            "['Windows 10', 'Linux', 'Android', 'iOS']\n",
            "Mate book\n",
            "Mate \n",
            "ovoneL\n",
            "ovoneL\n",
            "True\n",
            "[['HP', 'Mac Book Pro 17', 'Mate book', 'Lenovo legion'], ['Windows 10', 'Linux', 'Android', 'iOS'], [['MySQL', 'Open Source', False], ['MS SQL Server', 'de paga', True]]]\n",
            "MySQL\n",
            "de paga\n"
          ],
          "name": "stdout"
        }
      ]
    },
    {
      "cell_type": "code",
      "metadata": {
        "id": "9LhuUqY_z0-M"
      },
      "source": [
        "help(list)\n",
        "#cuando un dato no es obligatorio aparece entre corchetes [], (index,\"\") o ([index],\"\")"
      ],
      "execution_count": null,
      "outputs": []
    }
  ]
}